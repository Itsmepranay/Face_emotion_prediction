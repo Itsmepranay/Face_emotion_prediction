{
  "metadata": {
    "colab": {
      "provenance": [],
      "gpuType": "V28",
      "name": "Facial Expression Recognition Using CNN"
    },
    "kernelspec": {
      "name": "python3",
      "display_name": "Python 3",
      "language": "python"
    },
    "language_info": {
      "name": "python",
      "version": "3.10.13",
      "mimetype": "text/x-python",
      "codemirror_mode": {
        "name": "ipython",
        "version": 3
      },
      "pygments_lexer": "ipython3",
      "nbconvert_exporter": "python",
      "file_extension": ".py"
    },
    "accelerator": "TPU",
    "kaggle": {
      "accelerator": "nvidiaTeslaT4",
      "dataSources": [
        {
          "sourceId": 234911,
          "sourceType": "datasetVersion",
          "datasetId": 99505
        }
      ],
      "dockerImageVersionId": 30673,
      "isInternetEnabled": true,
      "language": "python",
      "sourceType": "notebook",
      "isGpuEnabled": true
    }
  },
  "nbformat_minor": 0,
  "nbformat": 4,
  "cells": [
    {
      "source": [
        "\n",
        "import os\n",
        "import sys\n",
        "from tempfile import NamedTemporaryFile\n",
        "from urllib.request import urlopen\n",
        "from urllib.parse import unquote, urlparse\n",
        "from urllib.error import HTTPError\n",
        "from zipfile import ZipFile\n",
        "import tarfile\n",
        "import shutil\n",
        "\n",
        "CHUNK_SIZE = 40960\n",
        "DATA_SOURCE_MAPPING = 'face-expression-recognition-dataset:https%3A%2F%2Fstorage.googleapis.com%2Fkaggle-data-sets%2F99505%2F234911%2Fbundle%2Farchive.zip%3FX-Goog-Algorithm%3DGOOG4-RSA-SHA256%26X-Goog-Credential%3Dgcp-kaggle-com%2540kaggle-161607.iam.gserviceaccount.com%252F20240616%252Fauto%252Fstorage%252Fgoog4_request%26X-Goog-Date%3D20240616T042047Z%26X-Goog-Expires%3D259200%26X-Goog-SignedHeaders%3Dhost%26X-Goog-Signature%3D0fe3f173d0f70399558a64247ea64e6a6a65960ebf8a63e53f280feb4dce94f7e1778b5076775821a504dffc090dd770b3c5ed63878bdf8d729e893ac356e9ae98cacc095321299fcfc64a88142f43a5564038d9d4d7461f498074d3904d4a3ad1b9addc12c309cf33120e50396043466f35d68e3b9daab4d790b297b95cdfd2717cafab867346ab74d255531d8aaf527d9d9bbdbe6c0cfa8393ca4bd9cfe4cbe7fff8ef398f5c0d2723b02c7ae64a41a3ba9f15ad51ee18078c589a3195d6eac94391233228a79a2911c38b025f1daf8392763be9f14b7660d292ec80b397d119a8f8d1ee2edea8678b75079b3f75742b1e57f5703cf7f6af3bb7e1ed40020b'\n",
        "\n",
        "KAGGLE_INPUT_PATH='/kaggle/input'\n",
        "KAGGLE_WORKING_PATH='/kaggle/working'\n",
        "KAGGLE_SYMLINK='kaggle'\n",
        "\n",
        "!umount /kaggle/input/ 2> /dev/null\n",
        "shutil.rmtree('/kaggle/input', ignore_errors=True)\n",
        "os.makedirs(KAGGLE_INPUT_PATH, 0o777, exist_ok=True)\n",
        "os.makedirs(KAGGLE_WORKING_PATH, 0o777, exist_ok=True)\n",
        "\n",
        "try:\n",
        "  os.symlink(KAGGLE_INPUT_PATH, os.path.join(\"..\", 'input'), target_is_directory=True)\n",
        "except FileExistsError:\n",
        "  pass\n",
        "try:\n",
        "  os.symlink(KAGGLE_WORKING_PATH, os.path.join(\"..\", 'working'), target_is_directory=True)\n",
        "except FileExistsError:\n",
        "  pass\n",
        "\n",
        "for data_source_mapping in DATA_SOURCE_MAPPING.split(','):\n",
        "    directory, download_url_encoded = data_source_mapping.split(':')\n",
        "    download_url = unquote(download_url_encoded)\n",
        "    filename = urlparse(download_url).path\n",
        "    destination_path = os.path.join(KAGGLE_INPUT_PATH, directory)\n",
        "    try:\n",
        "        with urlopen(download_url) as fileres, NamedTemporaryFile() as tfile:\n",
        "            total_length = fileres.headers['content-length']\n",
        "            print(f'Downloading {directory}, {total_length} bytes compressed')\n",
        "            dl = 0\n",
        "            data = fileres.read(CHUNK_SIZE)\n",
        "            while len(data) > 0:\n",
        "                dl += len(data)\n",
        "                tfile.write(data)\n",
        "                done = int(50 * dl / int(total_length))\n",
        "                sys.stdout.write(f\"\\r[{'=' * done}{' ' * (50-done)}] {dl} bytes downloaded\")\n",
        "                sys.stdout.flush()\n",
        "                data = fileres.read(CHUNK_SIZE)\n",
        "            if filename.endswith('.zip'):\n",
        "              with ZipFile(tfile) as zfile:\n",
        "                zfile.extractall(destination_path)\n",
        "            else:\n",
        "              with tarfile.open(tfile.name) as tarfile:\n",
        "                tarfile.extractall(destination_path)\n",
        "            print(f'\\nDownloaded and uncompressed: {directory}')\n",
        "    except HTTPError as e:\n",
        "        print(f'Failed to load (likely expired) {download_url} to path {destination_path}')\n",
        "        continue\n",
        "    except OSError as e:\n",
        "        print(f'Failed to load {download_url} to path {destination_path}')\n",
        "        continue\n",
        "\n",
        "print('Data source import complete.')\n"
      ],
      "metadata": {
        "colab": {
          "base_uri": "https://localhost:8080/"
        },
        "id": "_k5Xh9m7RswQ",
        "outputId": "4812a786-6506-49e7-a881-74f069843c5b"
      },
      "cell_type": "code",
      "outputs": [
        {
          "output_type": "stream",
          "name": "stdout",
          "text": [
            "Downloading face-expression-recognition-dataset, 126358582 bytes compressed\n",
            "[==================================================] 126358582 bytes downloaded\n",
            "Downloaded and uncompressed: face-expression-recognition-dataset\n",
            "Data source import complete.\n"
          ]
        }
      ],
      "execution_count": 1
    },
    {
      "cell_type": "code",
      "source": [
        "import os\n",
        "import cv2\n",
        "import numpy as np\n",
        "import tensorflow\n",
        "from sklearn.model_selection import train_test_split\n",
        "from tensorflow.keras.preprocessing.image import ImageDataGenerator\n",
        "from sklearn.preprocessing import LabelEncoder\n",
        "from keras.utils import to_categorical\n",
        "from keras.models import Sequential\n",
        "from keras.layers import Dense, Conv2D, Dropout, BatchNormalization, MaxPooling2D, Flatten\n",
        "from keras.optimizers import Adam, RMSprop, SGD\n",
        "import matplotlib.pyplot as plt\n",
        "from keras.callbacks import ModelCheckpoint, EarlyStopping, ReduceLROnPlateau"
      ],
      "metadata": {
        "id": "fDYyQlK_iMSL",
        "execution": {
          "iopub.status.busy": "2024-04-16T14:00:39.442514Z",
          "iopub.execute_input": "2024-04-16T14:00:39.443196Z",
          "iopub.status.idle": "2024-04-16T14:00:53.357045Z",
          "shell.execute_reply.started": "2024-04-16T14:00:39.443167Z",
          "shell.execute_reply": "2024-04-16T14:00:53.356098Z"
        },
        "trusted": true
      },
      "execution_count": 2,
      "outputs": []
    },
    {
      "cell_type": "code",
      "source": [
        "\n",
        "data_dir = \"/kaggle/input/face-expression-recognition-dataset/images/train\"\n"
      ],
      "metadata": {
        "id": "Q9L2Lx6dib9F",
        "execution": {
          "iopub.status.busy": "2024-04-16T14:00:53.358663Z",
          "iopub.execute_input": "2024-04-16T14:00:53.359487Z",
          "iopub.status.idle": "2024-04-16T14:00:53.364034Z",
          "shell.execute_reply.started": "2024-04-16T14:00:53.359456Z",
          "shell.execute_reply": "2024-04-16T14:00:53.362854Z"
        },
        "trusted": true
      },
      "execution_count": 3,
      "outputs": []
    },
    {
      "cell_type": "code",
      "source": [
        "\n",
        "sub_folders = os.listdir(data_dir)"
      ],
      "metadata": {
        "id": "gWafwx62ilRE",
        "execution": {
          "iopub.status.busy": "2024-04-16T14:00:53.36554Z",
          "iopub.execute_input": "2024-04-16T14:00:53.365973Z",
          "iopub.status.idle": "2024-04-16T14:00:53.405414Z",
          "shell.execute_reply.started": "2024-04-16T14:00:53.365934Z",
          "shell.execute_reply": "2024-04-16T14:00:53.404242Z"
        },
        "trusted": true
      },
      "execution_count": 4,
      "outputs": []
    },
    {
      "cell_type": "code",
      "source": [
        "\n",
        "images = []\n",
        "labels = []"
      ],
      "metadata": {
        "id": "OBRZU_fzisqq",
        "execution": {
          "iopub.status.busy": "2024-04-16T14:00:53.408745Z",
          "iopub.execute_input": "2024-04-16T14:00:53.409164Z",
          "iopub.status.idle": "2024-04-16T14:00:53.413981Z",
          "shell.execute_reply.started": "2024-04-16T14:00:53.409133Z",
          "shell.execute_reply": "2024-04-16T14:00:53.412795Z"
        },
        "trusted": true
      },
      "execution_count": 5,
      "outputs": []
    },
    {
      "cell_type": "code",
      "source": [
        "\n",
        "for sub_folder in sub_folders:\n",
        "    label = sub_folder\n",
        "    path = os.path.join(data_dir, sub_folder)\n",
        "    sub_folder_images = os.listdir(path)\n",
        "    for image_name in sub_folder_images:\n",
        "        image_path = os.path.join(path, image_name)\n",
        "        img = cv2.imread(image_path, cv2.IMREAD_GRAYSCALE)\n",
        "        images.append(img)\n",
        "        labels.append(label)"
      ],
      "metadata": {
        "id": "6N7TZ54civYK",
        "execution": {
          "iopub.status.busy": "2024-04-16T14:00:53.415719Z",
          "iopub.execute_input": "2024-04-16T14:00:53.416216Z",
          "iopub.status.idle": "2024-04-16T14:03:44.444912Z",
          "shell.execute_reply.started": "2024-04-16T14:00:53.416185Z",
          "shell.execute_reply": "2024-04-16T14:03:44.443678Z"
        },
        "trusted": true
      },
      "execution_count": 6,
      "outputs": []
    },
    {
      "cell_type": "code",
      "source": [
        "images = np.array(images)\n",
        "labels = np.array(labels)\n",
        "print(len(images))"
      ],
      "metadata": {
        "id": "t3ehOepji55a",
        "execution": {
          "iopub.status.busy": "2024-04-16T14:03:44.446312Z",
          "iopub.execute_input": "2024-04-16T14:03:44.446824Z",
          "iopub.status.idle": "2024-04-16T14:03:44.522434Z",
          "shell.execute_reply.started": "2024-04-16T14:03:44.446778Z",
          "shell.execute_reply": "2024-04-16T14:03:44.521418Z"
        },
        "trusted": true,
        "colab": {
          "base_uri": "https://localhost:8080/"
        },
        "outputId": "fd3ee1f8-18b0-4041-81ee-45a90974c64f"
      },
      "execution_count": 7,
      "outputs": [
        {
          "output_type": "stream",
          "name": "stdout",
          "text": [
            "28821\n"
          ]
        }
      ]
    },
    {
      "cell_type": "code",
      "source": [
        "X_train, X_test, y_train, y_test = train_test_split(\n",
        "    images, labels, test_size=0.2, random_state=42)\n",
        "\n",
        "X_train, X_val, y_train, y_val = train_test_split(\n",
        "    X_train, y_train, test_size=0.1, random_state=42)"
      ],
      "metadata": {
        "id": "3RlIsHBIi9fQ",
        "execution": {
          "iopub.status.busy": "2024-04-16T14:03:44.523889Z",
          "iopub.execute_input": "2024-04-16T14:03:44.524241Z",
          "iopub.status.idle": "2024-04-16T14:03:44.578212Z",
          "shell.execute_reply.started": "2024-04-16T14:03:44.524212Z",
          "shell.execute_reply": "2024-04-16T14:03:44.577208Z"
        },
        "trusted": true
      },
      "execution_count": 8,
      "outputs": []
    },
    {
      "cell_type": "code",
      "source": [
        "def preprocessing(img):\n",
        "    img = img / 255.0\n",
        "    img = cv2.resize(img, (48, 48))\n",
        "    return img.reshape(-1, 48, 48, 1)"
      ],
      "metadata": {
        "id": "W-QcvS5EjA8z",
        "execution": {
          "iopub.status.busy": "2024-04-16T14:03:44.579439Z",
          "iopub.execute_input": "2024-04-16T14:03:44.579792Z",
          "iopub.status.idle": "2024-04-16T14:03:44.585113Z",
          "shell.execute_reply.started": "2024-04-16T14:03:44.579764Z",
          "shell.execute_reply": "2024-04-16T14:03:44.584135Z"
        },
        "trusted": true
      },
      "execution_count": 9,
      "outputs": []
    },
    {
      "cell_type": "code",
      "source": [
        "\n",
        "X_train = np.array(list(map(preprocessing, X_train)))\n",
        "X_val = np.array(list(map(preprocessing, X_val)))\n",
        "X_test = np.array(list(map(preprocessing, X_test)))"
      ],
      "metadata": {
        "id": "xYlF0AWcFFVD",
        "execution": {
          "iopub.status.busy": "2024-04-16T14:03:44.586316Z",
          "iopub.execute_input": "2024-04-16T14:03:44.58658Z",
          "iopub.status.idle": "2024-04-16T14:03:45.314105Z",
          "shell.execute_reply.started": "2024-04-16T14:03:44.586558Z",
          "shell.execute_reply": "2024-04-16T14:03:45.313343Z"
        },
        "trusted": true
      },
      "execution_count": 10,
      "outputs": []
    },
    {
      "cell_type": "code",
      "source": [
        "\n",
        "X_train = X_train.reshape(-1, 48, 48, 1)\n",
        "X_val = X_val.reshape(-1, 48, 48, 1)\n",
        "X_test = X_test.reshape(-1, 48, 48, 1)"
      ],
      "metadata": {
        "id": "Mfe4OENojGZM",
        "execution": {
          "iopub.status.busy": "2024-04-16T14:03:45.318376Z",
          "iopub.execute_input": "2024-04-16T14:03:45.318685Z",
          "iopub.status.idle": "2024-04-16T14:03:45.323572Z",
          "shell.execute_reply.started": "2024-04-16T14:03:45.318659Z",
          "shell.execute_reply": "2024-04-16T14:03:45.322499Z"
        },
        "trusted": true
      },
      "execution_count": 11,
      "outputs": []
    },
    {
      "cell_type": "code",
      "source": [
        "\n",
        "data_gen = ImageDataGenerator(\n",
        "    width_shift_range=0.1,\n",
        "    height_shift_range=0.1,\n",
        "    zoom_range=0.1,\n",
        "    shear_range=0.1,\n",
        "    rotation_range=10\n",
        ")\n",
        "\n",
        "\n",
        "data_gen.fit(X_train)"
      ],
      "metadata": {
        "id": "amlCUHiVjMGx",
        "execution": {
          "iopub.status.busy": "2024-04-16T14:03:45.324843Z",
          "iopub.execute_input": "2024-04-16T14:03:45.32519Z",
          "iopub.status.idle": "2024-04-16T14:03:45.476335Z",
          "shell.execute_reply.started": "2024-04-16T14:03:45.325163Z",
          "shell.execute_reply": "2024-04-16T14:03:45.475566Z"
        },
        "trusted": true
      },
      "execution_count": 12,
      "outputs": []
    },
    {
      "cell_type": "code",
      "source": [
        "\n",
        "label_encoder = LabelEncoder()\n",
        "label_encoder.fit(labels)"
      ],
      "metadata": {
        "id": "v-M6Td56jQnI",
        "outputId": "06ae8082-a7da-484e-da0d-f13e7b44a275",
        "execution": {
          "iopub.status.busy": "2024-04-16T14:03:45.47742Z",
          "iopub.execute_input": "2024-04-16T14:03:45.477742Z",
          "iopub.status.idle": "2024-04-16T14:03:45.492186Z",
          "shell.execute_reply.started": "2024-04-16T14:03:45.477716Z",
          "shell.execute_reply": "2024-04-16T14:03:45.49127Z"
        },
        "trusted": true,
        "colab": {
          "base_uri": "https://localhost:8080/",
          "height": 74
        }
      },
      "execution_count": 13,
      "outputs": [
        {
          "output_type": "execute_result",
          "data": {
            "text/plain": [
              "LabelEncoder()"
            ],
            "text/html": [
              "<style>#sk-container-id-1 {color: black;background-color: white;}#sk-container-id-1 pre{padding: 0;}#sk-container-id-1 div.sk-toggleable {background-color: white;}#sk-container-id-1 label.sk-toggleable__label {cursor: pointer;display: block;width: 100%;margin-bottom: 0;padding: 0.3em;box-sizing: border-box;text-align: center;}#sk-container-id-1 label.sk-toggleable__label-arrow:before {content: \"▸\";float: left;margin-right: 0.25em;color: #696969;}#sk-container-id-1 label.sk-toggleable__label-arrow:hover:before {color: black;}#sk-container-id-1 div.sk-estimator:hover label.sk-toggleable__label-arrow:before {color: black;}#sk-container-id-1 div.sk-toggleable__content {max-height: 0;max-width: 0;overflow: hidden;text-align: left;background-color: #f0f8ff;}#sk-container-id-1 div.sk-toggleable__content pre {margin: 0.2em;color: black;border-radius: 0.25em;background-color: #f0f8ff;}#sk-container-id-1 input.sk-toggleable__control:checked~div.sk-toggleable__content {max-height: 200px;max-width: 100%;overflow: auto;}#sk-container-id-1 input.sk-toggleable__control:checked~label.sk-toggleable__label-arrow:before {content: \"▾\";}#sk-container-id-1 div.sk-estimator input.sk-toggleable__control:checked~label.sk-toggleable__label {background-color: #d4ebff;}#sk-container-id-1 div.sk-label input.sk-toggleable__control:checked~label.sk-toggleable__label {background-color: #d4ebff;}#sk-container-id-1 input.sk-hidden--visually {border: 0;clip: rect(1px 1px 1px 1px);clip: rect(1px, 1px, 1px, 1px);height: 1px;margin: -1px;overflow: hidden;padding: 0;position: absolute;width: 1px;}#sk-container-id-1 div.sk-estimator {font-family: monospace;background-color: #f0f8ff;border: 1px dotted black;border-radius: 0.25em;box-sizing: border-box;margin-bottom: 0.5em;}#sk-container-id-1 div.sk-estimator:hover {background-color: #d4ebff;}#sk-container-id-1 div.sk-parallel-item::after {content: \"\";width: 100%;border-bottom: 1px solid gray;flex-grow: 1;}#sk-container-id-1 div.sk-label:hover label.sk-toggleable__label {background-color: #d4ebff;}#sk-container-id-1 div.sk-serial::before {content: \"\";position: absolute;border-left: 1px solid gray;box-sizing: border-box;top: 0;bottom: 0;left: 50%;z-index: 0;}#sk-container-id-1 div.sk-serial {display: flex;flex-direction: column;align-items: center;background-color: white;padding-right: 0.2em;padding-left: 0.2em;position: relative;}#sk-container-id-1 div.sk-item {position: relative;z-index: 1;}#sk-container-id-1 div.sk-parallel {display: flex;align-items: stretch;justify-content: center;background-color: white;position: relative;}#sk-container-id-1 div.sk-item::before, #sk-container-id-1 div.sk-parallel-item::before {content: \"\";position: absolute;border-left: 1px solid gray;box-sizing: border-box;top: 0;bottom: 0;left: 50%;z-index: -1;}#sk-container-id-1 div.sk-parallel-item {display: flex;flex-direction: column;z-index: 1;position: relative;background-color: white;}#sk-container-id-1 div.sk-parallel-item:first-child::after {align-self: flex-end;width: 50%;}#sk-container-id-1 div.sk-parallel-item:last-child::after {align-self: flex-start;width: 50%;}#sk-container-id-1 div.sk-parallel-item:only-child::after {width: 0;}#sk-container-id-1 div.sk-dashed-wrapped {border: 1px dashed gray;margin: 0 0.4em 0.5em 0.4em;box-sizing: border-box;padding-bottom: 0.4em;background-color: white;}#sk-container-id-1 div.sk-label label {font-family: monospace;font-weight: bold;display: inline-block;line-height: 1.2em;}#sk-container-id-1 div.sk-label-container {text-align: center;}#sk-container-id-1 div.sk-container {/* jupyter's `normalize.less` sets `[hidden] { display: none; }` but bootstrap.min.css set `[hidden] { display: none !important; }` so we also need the `!important` here to be able to override the default hidden behavior on the sphinx rendered scikit-learn.org. See: https://github.com/scikit-learn/scikit-learn/issues/21755 */display: inline-block !important;position: relative;}#sk-container-id-1 div.sk-text-repr-fallback {display: none;}</style><div id=\"sk-container-id-1\" class=\"sk-top-container\"><div class=\"sk-text-repr-fallback\"><pre>LabelEncoder()</pre><b>In a Jupyter environment, please rerun this cell to show the HTML representation or trust the notebook. <br />On GitHub, the HTML representation is unable to render, please try loading this page with nbviewer.org.</b></div><div class=\"sk-container\" hidden><div class=\"sk-item\"><div class=\"sk-estimator sk-toggleable\"><input class=\"sk-toggleable__control sk-hidden--visually\" id=\"sk-estimator-id-1\" type=\"checkbox\" checked><label for=\"sk-estimator-id-1\" class=\"sk-toggleable__label sk-toggleable__label-arrow\">LabelEncoder</label><div class=\"sk-toggleable__content\"><pre>LabelEncoder()</pre></div></div></div></div></div>"
            ]
          },
          "metadata": {},
          "execution_count": 13
        }
      ]
    },
    {
      "cell_type": "code",
      "source": [
        "\n",
        "y_train = label_encoder.transform(y_train)\n",
        "y_val = label_encoder.transform(y_val)\n",
        "y_test = label_encoder.transform(y_test)"
      ],
      "metadata": {
        "id": "5-hx7_s8jTZb",
        "execution": {
          "iopub.status.busy": "2024-04-16T14:03:45.493283Z",
          "iopub.execute_input": "2024-04-16T14:03:45.493574Z",
          "iopub.status.idle": "2024-04-16T14:03:45.519271Z",
          "shell.execute_reply.started": "2024-04-16T14:03:45.49355Z",
          "shell.execute_reply": "2024-04-16T14:03:45.518487Z"
        },
        "trusted": true
      },
      "execution_count": 14,
      "outputs": []
    },
    {
      "cell_type": "code",
      "source": [
        "num_classes = len(label_encoder.classes_)\n",
        "\n",
        "y_train_categorical = to_categorical(y_train, num_classes=num_classes)\n",
        "y_val_categorical = to_categorical(y_val, num_classes=num_classes)\n",
        "y_test_categorical = to_categorical(y_test, num_classes=num_classes)"
      ],
      "metadata": {
        "id": "Pccke-XUjVeQ",
        "execution": {
          "iopub.status.busy": "2024-04-16T14:03:45.520381Z",
          "iopub.execute_input": "2024-04-16T14:03:45.520698Z",
          "iopub.status.idle": "2024-04-16T14:03:45.527808Z",
          "shell.execute_reply.started": "2024-04-16T14:03:45.520674Z",
          "shell.execute_reply": "2024-04-16T14:03:45.526869Z"
        },
        "trusted": true
      },
      "execution_count": 15,
      "outputs": []
    },
    {
      "cell_type": "code",
      "source": [
        "def build_model():\n",
        "    model = Sequential()\n",
        "    # 1st Layer\n",
        "    model.add(Conv2D(64, (5, 5), strides=(1, 1), padding='same', activation='relu', input_shape=(48, 48, 1)))\n",
        "    model.add(BatchNormalization())\n",
        "    model.add(MaxPooling2D(2, 2))\n",
        "    model.add(Dropout(0.3))\n",
        "\n",
        "    # 2nd Layer\n",
        "    model.add(Conv2D(128, (3, 3), strides=(1, 1), padding='same', activation='relu'))\n",
        "    model.add(BatchNormalization())\n",
        "    model.add(MaxPooling2D(2, 2))\n",
        "    model.add(Dropout(0.3))\n",
        "\n",
        "    # 3rd layer\n",
        "    model.add(Conv2D(512, (3, 3), strides=(1, 1), padding='same', activation='relu'))\n",
        "    model.add(BatchNormalization())\n",
        "    model.add(MaxPooling2D(2, 2))\n",
        "    model.add(Dropout(0.3))\n",
        "\n",
        "    # 4th layer\n",
        "    model.add(Conv2D(512, (3, 3), strides=(1, 1), padding='same', activation='relu'))\n",
        "    model.add(BatchNormalization())\n",
        "    model.add(MaxPooling2D(2, 2))\n",
        "    model.add(Dropout(0.3))\n",
        "\n",
        "    # Flatten Layer\n",
        "    model.add(Flatten())\n",
        "\n",
        "    # Fully connected layer 1\n",
        "    model.add(Dense(256, activation='relu'))\n",
        "    model.add(BatchNormalization())\n",
        "    model.add(Dropout(0.3))\n",
        "\n",
        "    # Fully connected layer 2\n",
        "    model.add(Dense(512, activation='relu'))\n",
        "    model.add(BatchNormalization())\n",
        "    model.add(Dropout(0.3))\n",
        "\n",
        "    # Output layer\n",
        "    model.add(Dense(num_classes, activation='softmax'))\n",
        "\n",
        "    # Compiling the model\n",
        "    model.compile(optimizer=Adam(learning_rate=0.001), loss='categorical_crossentropy', metrics=['accuracy'])\n",
        "\n",
        "    return model"
      ],
      "metadata": {
        "id": "ebDumsoOjZJC",
        "execution": {
          "iopub.status.busy": "2024-04-16T14:03:45.528903Z",
          "iopub.execute_input": "2024-04-16T14:03:45.529187Z",
          "iopub.status.idle": "2024-04-16T14:03:45.544979Z",
          "shell.execute_reply.started": "2024-04-16T14:03:45.529164Z",
          "shell.execute_reply": "2024-04-16T14:03:45.54412Z"
        },
        "trusted": true
      },
      "execution_count": 16,
      "outputs": []
    },
    {
      "cell_type": "code",
      "source": [
        "model = build_model()\n",
        "\n",
        "print(model.summary())"
      ],
      "metadata": {
        "id": "St5xjbyDjjGq",
        "outputId": "c690a7b9-4fe5-43eb-c08d-6648cab23bdd",
        "execution": {
          "iopub.status.busy": "2024-04-16T14:03:45.545976Z",
          "iopub.execute_input": "2024-04-16T14:03:45.546247Z",
          "iopub.status.idle": "2024-04-16T14:03:46.915586Z",
          "shell.execute_reply.started": "2024-04-16T14:03:45.546225Z",
          "shell.execute_reply": "2024-04-16T14:03:46.914674Z"
        },
        "trusted": true,
        "colab": {
          "base_uri": "https://localhost:8080/"
        }
      },
      "execution_count": 17,
      "outputs": [
        {
          "output_type": "stream",
          "name": "stdout",
          "text": [
            "Model: \"sequential\"\n",
            "_________________________________________________________________\n",
            " Layer (type)                Output Shape              Param #   \n",
            "=================================================================\n",
            " conv2d (Conv2D)             (None, 48, 48, 64)        1664      \n",
            "                                                                 \n",
            " batch_normalization (Batch  (None, 48, 48, 64)        256       \n",
            " Normalization)                                                  \n",
            "                                                                 \n",
            " max_pooling2d (MaxPooling2  (None, 24, 24, 64)        0         \n",
            " D)                                                              \n",
            "                                                                 \n",
            " dropout (Dropout)           (None, 24, 24, 64)        0         \n",
            "                                                                 \n",
            " conv2d_1 (Conv2D)           (None, 24, 24, 128)       73856     \n",
            "                                                                 \n",
            " batch_normalization_1 (Bat  (None, 24, 24, 128)       512       \n",
            " chNormalization)                                                \n",
            "                                                                 \n",
            " max_pooling2d_1 (MaxPoolin  (None, 12, 12, 128)       0         \n",
            " g2D)                                                            \n",
            "                                                                 \n",
            " dropout_1 (Dropout)         (None, 12, 12, 128)       0         \n",
            "                                                                 \n",
            " conv2d_2 (Conv2D)           (None, 12, 12, 512)       590336    \n",
            "                                                                 \n",
            " batch_normalization_2 (Bat  (None, 12, 12, 512)       2048      \n",
            " chNormalization)                                                \n",
            "                                                                 \n",
            " max_pooling2d_2 (MaxPoolin  (None, 6, 6, 512)         0         \n",
            " g2D)                                                            \n",
            "                                                                 \n",
            " dropout_2 (Dropout)         (None, 6, 6, 512)         0         \n",
            "                                                                 \n",
            " conv2d_3 (Conv2D)           (None, 6, 6, 512)         2359808   \n",
            "                                                                 \n",
            " batch_normalization_3 (Bat  (None, 6, 6, 512)         2048      \n",
            " chNormalization)                                                \n",
            "                                                                 \n",
            " max_pooling2d_3 (MaxPoolin  (None, 3, 3, 512)         0         \n",
            " g2D)                                                            \n",
            "                                                                 \n",
            " dropout_3 (Dropout)         (None, 3, 3, 512)         0         \n",
            "                                                                 \n",
            " flatten (Flatten)           (None, 4608)              0         \n",
            "                                                                 \n",
            " dense (Dense)               (None, 256)               1179904   \n",
            "                                                                 \n",
            " batch_normalization_4 (Bat  (None, 256)               1024      \n",
            " chNormalization)                                                \n",
            "                                                                 \n",
            " dropout_4 (Dropout)         (None, 256)               0         \n",
            "                                                                 \n",
            " dense_1 (Dense)             (None, 512)               131584    \n",
            "                                                                 \n",
            " batch_normalization_5 (Bat  (None, 512)               2048      \n",
            " chNormalization)                                                \n",
            "                                                                 \n",
            " dropout_5 (Dropout)         (None, 512)               0         \n",
            "                                                                 \n",
            " dense_2 (Dense)             (None, 7)                 3591      \n",
            "                                                                 \n",
            "=================================================================\n",
            "Total params: 4348679 (16.59 MB)\n",
            "Trainable params: 4344711 (16.57 MB)\n",
            "Non-trainable params: 3968 (15.50 KB)\n",
            "_________________________________________________________________\n",
            "None\n"
          ]
        }
      ]
    },
    {
      "cell_type": "code",
      "source": [
        "checkpoint = ModelCheckpoint(\"model.keras\", monitor=\"val_acc\", verbose=1, save_best_only=True)"
      ],
      "metadata": {
        "id": "M-smbpQKkVV7",
        "execution": {
          "iopub.status.busy": "2024-04-16T14:06:45.926915Z",
          "iopub.execute_input": "2024-04-16T14:06:45.92767Z",
          "iopub.status.idle": "2024-04-16T14:06:45.932676Z",
          "shell.execute_reply.started": "2024-04-16T14:06:45.927633Z",
          "shell.execute_reply": "2024-04-16T14:06:45.931418Z"
        },
        "trusted": true
      },
      "execution_count": 18,
      "outputs": []
    },
    {
      "cell_type": "code",
      "source": [
        "early_stopping = EarlyStopping(\n",
        "    monitor='val_loss',\n",
        "    min_delta=0,\n",
        "    patience=3,\n",
        "    verbose=1,\n",
        "    restore_best_weights=True\n",
        ")"
      ],
      "metadata": {
        "id": "zuArFO2GkbKM",
        "execution": {
          "iopub.status.busy": "2024-04-16T14:06:50.29051Z",
          "iopub.execute_input": "2024-04-16T14:06:50.290927Z",
          "iopub.status.idle": "2024-04-16T14:06:50.296063Z",
          "shell.execute_reply.started": "2024-04-16T14:06:50.290895Z",
          "shell.execute_reply": "2024-04-16T14:06:50.294914Z"
        },
        "trusted": true
      },
      "execution_count": 19,
      "outputs": []
    },
    {
      "cell_type": "code",
      "source": [
        "reduce_learningrate = ReduceLROnPlateau(\n",
        "    monitor='val_loss',\n",
        "    factor=0.2,\n",
        "    patience=3,\n",
        "    verbose=1,\n",
        "    min_delta=0.0001\n",
        ")"
      ],
      "metadata": {
        "id": "FcWqpIDfkdkh",
        "execution": {
          "iopub.status.busy": "2024-04-16T14:06:52.661411Z",
          "iopub.execute_input": "2024-04-16T14:06:52.66249Z",
          "iopub.status.idle": "2024-04-16T14:06:52.667555Z",
          "shell.execute_reply.started": "2024-04-16T14:06:52.662448Z",
          "shell.execute_reply": "2024-04-16T14:06:52.666495Z"
        },
        "trusted": true
      },
      "execution_count": 20,
      "outputs": []
    },
    {
      "cell_type": "code",
      "source": [
        "callbacks_list = [early_stopping, checkpoint, reduce_learningrate]"
      ],
      "metadata": {
        "id": "hkFIZipIkgA_",
        "execution": {
          "iopub.status.busy": "2024-04-16T14:06:54.829771Z",
          "iopub.execute_input": "2024-04-16T14:06:54.830756Z",
          "iopub.status.idle": "2024-04-16T14:06:54.835577Z",
          "shell.execute_reply.started": "2024-04-16T14:06:54.830721Z",
          "shell.execute_reply": "2024-04-16T14:06:54.834518Z"
        },
        "trusted": true
      },
      "execution_count": 21,
      "outputs": []
    },
    {
      "cell_type": "code",
      "source": [
        "model.compile(\n",
        "    loss='categorical_crossentropy',\n",
        "    optimizer=Adam(learning_rate=0.001),\n",
        "    metrics=['accuracy']\n",
        ")"
      ],
      "metadata": {
        "id": "_DgH_tueki6T",
        "execution": {
          "iopub.status.busy": "2024-04-16T14:06:58.117177Z",
          "iopub.execute_input": "2024-04-16T14:06:58.117885Z",
          "iopub.status.idle": "2024-04-16T14:06:58.126862Z",
          "shell.execute_reply.started": "2024-04-16T14:06:58.117854Z",
          "shell.execute_reply": "2024-04-16T14:06:58.125923Z"
        },
        "trusted": true
      },
      "execution_count": 22,
      "outputs": []
    },
    {
      "cell_type": "code",
      "source": [
        "history = model.fit(\n",
        "    data_gen.flow(X_train, y_train_categorical, batch_size=128),\n",
        "    validation_data=(X_val, y_val_categorical),\n",
        "    epochs=50,\n",
        "    verbose=1\n",
        ")"
      ],
      "metadata": {
        "id": "5kzrbdyx_UqG",
        "execution": {
          "iopub.status.busy": "2024-04-16T14:07:02.735008Z",
          "iopub.execute_input": "2024-04-16T14:07:02.73575Z",
          "iopub.status.idle": "2024-04-16T14:16:58.785723Z",
          "shell.execute_reply.started": "2024-04-16T14:07:02.735721Z",
          "shell.execute_reply": "2024-04-16T14:16:58.78475Z"
        },
        "trusted": true,
        "colab": {
          "base_uri": "https://localhost:8080/"
        },
        "outputId": "b2cce338-8c41-4c37-ba53-40bc3028349f"
      },
      "execution_count": 23,
      "outputs": [
        {
          "output_type": "stream",
          "name": "stdout",
          "text": [
            "Epoch 1/50\n",
            "163/163 [==============================] - 65s 384ms/step - loss: 2.2087 - accuracy: 0.2085 - val_loss: 2.2026 - val_accuracy: 0.1683\n",
            "Epoch 2/50\n",
            "163/163 [==============================] - 63s 383ms/step - loss: 1.9151 - accuracy: 0.2541 - val_loss: 1.9563 - val_accuracy: 0.1483\n",
            "Epoch 3/50\n",
            "163/163 [==============================] - 63s 384ms/step - loss: 1.7559 - accuracy: 0.3174 - val_loss: 1.8691 - val_accuracy: 0.2758\n",
            "Epoch 4/50\n",
            "163/163 [==============================] - 63s 387ms/step - loss: 1.6483 - accuracy: 0.3575 - val_loss: 2.5294 - val_accuracy: 0.2277\n",
            "Epoch 5/50\n",
            "163/163 [==============================] - 63s 387ms/step - loss: 1.5388 - accuracy: 0.4040 - val_loss: 1.4773 - val_accuracy: 0.4263\n",
            "Epoch 6/50\n",
            "163/163 [==============================] - 63s 389ms/step - loss: 1.4533 - accuracy: 0.4397 - val_loss: 1.3662 - val_accuracy: 0.4657\n",
            "Epoch 7/50\n",
            "163/163 [==============================] - 63s 386ms/step - loss: 1.4068 - accuracy: 0.4579 - val_loss: 1.4339 - val_accuracy: 0.4592\n",
            "Epoch 8/50\n",
            "163/163 [==============================] - 62s 381ms/step - loss: 1.3620 - accuracy: 0.4800 - val_loss: 1.3136 - val_accuracy: 0.4935\n",
            "Epoch 9/50\n",
            "163/163 [==============================] - 63s 383ms/step - loss: 1.3085 - accuracy: 0.5030 - val_loss: 1.2473 - val_accuracy: 0.5221\n",
            "Epoch 10/50\n",
            "163/163 [==============================] - 63s 385ms/step - loss: 1.2821 - accuracy: 0.5064 - val_loss: 1.6924 - val_accuracy: 0.4146\n",
            "Epoch 11/50\n",
            "163/163 [==============================] - 63s 388ms/step - loss: 1.2517 - accuracy: 0.5240 - val_loss: 1.3306 - val_accuracy: 0.4944\n",
            "Epoch 12/50\n",
            "163/163 [==============================] - 63s 384ms/step - loss: 1.2327 - accuracy: 0.5312 - val_loss: 1.1968 - val_accuracy: 0.5434\n",
            "Epoch 13/50\n",
            "163/163 [==============================] - 63s 388ms/step - loss: 1.2102 - accuracy: 0.5416 - val_loss: 1.2682 - val_accuracy: 0.5113\n",
            "Epoch 14/50\n",
            "163/163 [==============================] - 63s 384ms/step - loss: 1.1866 - accuracy: 0.5506 - val_loss: 1.1437 - val_accuracy: 0.5781\n",
            "Epoch 15/50\n",
            "163/163 [==============================] - 63s 387ms/step - loss: 1.1673 - accuracy: 0.5573 - val_loss: 1.3360 - val_accuracy: 0.5100\n",
            "Epoch 16/50\n",
            "163/163 [==============================] - 63s 385ms/step - loss: 1.1683 - accuracy: 0.5534 - val_loss: 1.1215 - val_accuracy: 0.5707\n",
            "Epoch 17/50\n",
            "163/163 [==============================] - 63s 385ms/step - loss: 1.1417 - accuracy: 0.5655 - val_loss: 3.0127 - val_accuracy: 0.1826\n",
            "Epoch 18/50\n",
            "163/163 [==============================] - 64s 391ms/step - loss: 1.1430 - accuracy: 0.5672 - val_loss: 1.1877 - val_accuracy: 0.5403\n",
            "Epoch 19/50\n",
            "163/163 [==============================] - 62s 383ms/step - loss: 1.1111 - accuracy: 0.5773 - val_loss: 1.1710 - val_accuracy: 0.5646\n",
            "Epoch 20/50\n",
            "163/163 [==============================] - 62s 380ms/step - loss: 1.1189 - accuracy: 0.5733 - val_loss: 1.0984 - val_accuracy: 0.5811\n",
            "Epoch 21/50\n",
            "163/163 [==============================] - 63s 384ms/step - loss: 1.0978 - accuracy: 0.5844 - val_loss: 1.1603 - val_accuracy: 0.5568\n",
            "Epoch 22/50\n",
            "163/163 [==============================] - 62s 381ms/step - loss: 1.0911 - accuracy: 0.5840 - val_loss: 1.0941 - val_accuracy: 0.5885\n",
            "Epoch 23/50\n",
            "163/163 [==============================] - 62s 383ms/step - loss: 1.0628 - accuracy: 0.5966 - val_loss: 1.1077 - val_accuracy: 0.5876\n",
            "Epoch 24/50\n",
            "163/163 [==============================] - 62s 381ms/step - loss: 1.0519 - accuracy: 0.6000 - val_loss: 1.0986 - val_accuracy: 0.5893\n",
            "Epoch 25/50\n",
            "163/163 [==============================] - 62s 382ms/step - loss: 1.0489 - accuracy: 0.6029 - val_loss: 1.0939 - val_accuracy: 0.5928\n",
            "Epoch 26/50\n",
            "163/163 [==============================] - 62s 381ms/step - loss: 1.0303 - accuracy: 0.6127 - val_loss: 1.1558 - val_accuracy: 0.5637\n",
            "Epoch 27/50\n",
            "163/163 [==============================] - 62s 379ms/step - loss: 1.0259 - accuracy: 0.6136 - val_loss: 1.1288 - val_accuracy: 0.5815\n",
            "Epoch 28/50\n",
            "163/163 [==============================] - 63s 385ms/step - loss: 1.0220 - accuracy: 0.6144 - val_loss: 1.1291 - val_accuracy: 0.5789\n",
            "Epoch 29/50\n",
            "163/163 [==============================] - 63s 385ms/step - loss: 1.0003 - accuracy: 0.6241 - val_loss: 1.0953 - val_accuracy: 0.5867\n",
            "Epoch 30/50\n",
            "163/163 [==============================] - 62s 381ms/step - loss: 0.9886 - accuracy: 0.6310 - val_loss: 1.1436 - val_accuracy: 0.5850\n",
            "Epoch 31/50\n",
            "163/163 [==============================] - 62s 382ms/step - loss: 0.9892 - accuracy: 0.6271 - val_loss: 1.0975 - val_accuracy: 0.5932\n",
            "Epoch 32/50\n",
            "163/163 [==============================] - 62s 380ms/step - loss: 0.9662 - accuracy: 0.6350 - val_loss: 1.0229 - val_accuracy: 0.6227\n",
            "Epoch 33/50\n",
            "163/163 [==============================] - 63s 386ms/step - loss: 0.9483 - accuracy: 0.6445 - val_loss: 1.0699 - val_accuracy: 0.5872\n",
            "Epoch 34/50\n",
            "163/163 [==============================] - 62s 382ms/step - loss: 0.9473 - accuracy: 0.6428 - val_loss: 1.0755 - val_accuracy: 0.5976\n",
            "Epoch 35/50\n",
            "163/163 [==============================] - 63s 385ms/step - loss: 0.9336 - accuracy: 0.6508 - val_loss: 1.0727 - val_accuracy: 0.6041\n",
            "Epoch 36/50\n",
            "163/163 [==============================] - 63s 387ms/step - loss: 0.9277 - accuracy: 0.6520 - val_loss: 1.1336 - val_accuracy: 0.5668\n",
            "Epoch 37/50\n",
            "163/163 [==============================] - 63s 386ms/step - loss: 0.9162 - accuracy: 0.6559 - val_loss: 1.0668 - val_accuracy: 0.6171\n",
            "Epoch 38/50\n",
            "163/163 [==============================] - 63s 386ms/step - loss: 0.9085 - accuracy: 0.6589 - val_loss: 1.1105 - val_accuracy: 0.5997\n",
            "Epoch 39/50\n",
            "163/163 [==============================] - 63s 383ms/step - loss: 0.8950 - accuracy: 0.6616 - val_loss: 1.0397 - val_accuracy: 0.6219\n",
            "Epoch 40/50\n",
            "163/163 [==============================] - 63s 386ms/step - loss: 0.8984 - accuracy: 0.6619 - val_loss: 1.0421 - val_accuracy: 0.6184\n",
            "Epoch 41/50\n",
            "163/163 [==============================] - 63s 389ms/step - loss: 0.8640 - accuracy: 0.6753 - val_loss: 1.1056 - val_accuracy: 0.5963\n",
            "Epoch 42/50\n",
            "163/163 [==============================] - 62s 381ms/step - loss: 0.8682 - accuracy: 0.6795 - val_loss: 1.0775 - val_accuracy: 0.6223\n",
            "Epoch 43/50\n",
            "163/163 [==============================] - 62s 383ms/step - loss: 0.8610 - accuracy: 0.6770 - val_loss: 1.0593 - val_accuracy: 0.6253\n",
            "Epoch 44/50\n",
            "163/163 [==============================] - 62s 382ms/step - loss: 0.8535 - accuracy: 0.6801 - val_loss: 1.0677 - val_accuracy: 0.6114\n",
            "Epoch 45/50\n",
            "163/163 [==============================] - 63s 385ms/step - loss: 0.8515 - accuracy: 0.6802 - val_loss: 1.0712 - val_accuracy: 0.6154\n",
            "Epoch 46/50\n",
            "163/163 [==============================] - 62s 382ms/step - loss: 0.8345 - accuracy: 0.6873 - val_loss: 1.0326 - val_accuracy: 0.6275\n",
            "Epoch 47/50\n",
            "163/163 [==============================] - 62s 383ms/step - loss: 0.8364 - accuracy: 0.6863 - val_loss: 1.0882 - val_accuracy: 0.6045\n",
            "Epoch 48/50\n",
            "163/163 [==============================] - 62s 382ms/step - loss: 0.8229 - accuracy: 0.6921 - val_loss: 1.0962 - val_accuracy: 0.6141\n",
            "Epoch 49/50\n",
            "163/163 [==============================] - 63s 384ms/step - loss: 0.8164 - accuracy: 0.6951 - val_loss: 1.0824 - val_accuracy: 0.6201\n",
            "Epoch 50/50\n",
            "163/163 [==============================] - 62s 382ms/step - loss: 0.8061 - accuracy: 0.6986 - val_loss: 1.0436 - val_accuracy: 0.6227\n"
          ]
        }
      ]
    },
    {
      "cell_type": "code",
      "source": [
        "model.save(\"modelv1.keras\")"
      ],
      "metadata": {
        "execution": {
          "iopub.status.busy": "2024-04-16T14:17:08.73608Z",
          "iopub.execute_input": "2024-04-16T14:17:08.737176Z",
          "iopub.status.idle": "2024-04-16T14:17:08.942264Z",
          "shell.execute_reply.started": "2024-04-16T14:17:08.737144Z",
          "shell.execute_reply": "2024-04-16T14:17:08.940943Z"
        },
        "trusted": true,
        "id": "HFM6JzfqRswh"
      },
      "execution_count": 24,
      "outputs": []
    },
    {
      "cell_type": "code",
      "source": [
        "model.save('modelv1.h5')"
      ],
      "metadata": {
        "id": "uF0F95fykoDV",
        "execution": {
          "iopub.status.busy": "2024-04-16T14:17:22.086032Z",
          "iopub.execute_input": "2024-04-16T14:17:22.086417Z",
          "iopub.status.idle": "2024-04-16T14:17:22.213561Z",
          "shell.execute_reply.started": "2024-04-16T14:17:22.086386Z",
          "shell.execute_reply": "2024-04-16T14:17:22.212814Z"
        },
        "trusted": true,
        "colab": {
          "base_uri": "https://localhost:8080/"
        },
        "outputId": "70483423-51ae-4c12-d5e5-2df85eeb78a7"
      },
      "execution_count": 25,
      "outputs": [
        {
          "output_type": "stream",
          "name": "stderr",
          "text": [
            "/usr/local/lib/python3.10/dist-packages/keras/src/engine/training.py:3103: UserWarning: You are saving your model as an HDF5 file via `model.save()`. This file format is considered legacy. We recommend using instead the native Keras format, e.g. `model.save('my_model.keras')`.\n",
            "  saving_api.save_model(\n"
          ]
        }
      ]
    },
    {
      "cell_type": "code",
      "source": [
        "plt.plot(history.history['accuracy'], label='train_accuracy', marker='o')\n",
        "plt.plot(history.history['val_accuracy'], label='val_accuracy', marker='o')\n",
        "plt.title('Model Accuracy')\n",
        "plt.xlabel('Epochs')\n",
        "plt.ylabel('Accuracy')\n",
        "plt.legend()\n",
        "plt.show()"
      ],
      "metadata": {
        "id": "SxmRSt_sxDve",
        "execution": {
          "iopub.status.busy": "2024-04-16T14:17:28.252601Z",
          "iopub.execute_input": "2024-04-16T14:17:28.253424Z",
          "iopub.status.idle": "2024-04-16T14:17:28.582331Z",
          "shell.execute_reply.started": "2024-04-16T14:17:28.253394Z",
          "shell.execute_reply": "2024-04-16T14:17:28.581019Z"
        },
        "trusted": true,
        "colab": {
          "base_uri": "https://localhost:8080/",
          "height": 472
        },
        "outputId": "18ba6784-102b-4c1a-efc0-29610b52f25d"
      },
      "execution_count": 26,
      "outputs": [
        {
          "output_type": "display_data",
          "data": {
            "text/plain": [
              "<Figure size 640x480 with 1 Axes>"
            ],
            "image/png": "[encoded data removed]"
          },
          "metadata": {}
        }
      ]
    },
    {
      "cell_type": "code",
      "source": [],
      "metadata": {
        "id": "0C40FZg-Rswh"
      },
      "execution_count": 26,
      "outputs": []
    }
  ]
}